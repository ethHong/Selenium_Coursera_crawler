{
 "cells": [
  {
   "cell_type": "code",
   "execution_count": 53,
   "id": "intelligent-supervision",
   "metadata": {},
   "outputs": [],
   "source": [
    "from bs4 import BeautifulSoup\n",
    "import re\n",
    "from selenium import webdriver\n",
    "from selenium.webdriver.common.by import By\n",
    "import os\n",
    "import platform\n",
    "from langdetect import detect\n",
    "import json\n",
    "from tqdm import tqdm\n",
    "\n",
    "# If browser is loading too fast, enable time.sleep option\n",
    "# import time\n",
    "\n",
    "options = webdriver.ChromeOptions()\n",
    "options.add_argument(\"headless\")\n",
    "options.add_experimental_option(\"excludeSwitches\", [\"enable-automation\"])\n",
    "\n",
    "# Choose right chromedriver of your OS\n",
    "\n",
    "if platform.system() == \"Windows\":\n",
    "    driverpath = os.getcwd() + \"/chromedriver.exe\"\n",
    "else:\n",
    "    driverpath = os.getcwd() + \"/chromedriver\"\n",
    "\n",
    "\n",
    "def get_links(page, lang=True):\n",
    "\n",
    "    url = \"https://www.coursera.org/directory/courses?page=\" + str(page)\n",
    "    driver.get(url)\n",
    "    soup = BeautifulSoup(driver.page_source, \"lxml\")\n",
    "    links = soup.findAll(\"a\", {\"class\": \"c-directory-link\"}, href=True)\n",
    "\n",
    "    course_name = []\n",
    "    course_links = []\n",
    "    for i in links:\n",
    "        if detect(i.text) == \"en\":\n",
    "            course_name.append(i.text)\n",
    "            course_links.append(\"https://coursera.org\" + i[\"href\"])\n",
    "\n",
    "    collected = {}\n",
    "    for i in range(0, len(course_name)):\n",
    "        collected[course_name[i]] = course_links[i]\n",
    "    return collected\n"
   ]
  },
  {
   "cell_type": "code",
   "execution_count": 52,
   "id": "needed-trauma",
   "metadata": {},
   "outputs": [],
   "source": [
    "def crawl_syllabus(url):\n",
    "    driver.get(url)\n",
    "    soup = BeautifulSoup(driver.page_source, \"lxml\")\n",
    "    result = {}\n",
    "\n",
    "    try:\n",
    "        if soup.findAll(\"div\", {\"class\": \"_jyhj5r SyllabusWeek\"}) != []:\n",
    "            syllabus_weeks = soup.findAll(\"div\", {\"class\": \"_jyhj5r SyllabusWeek\"})\n",
    "\n",
    "            result = {}\n",
    "            for i in range(0, len(syllabus_weeks)):\n",
    "                week = \"Week_{}\".format(i + 1)\n",
    "                result[week] = {}\n",
    "                syllabus = syllabus_weeks[i]\n",
    "                titles = syllabus.findAll(\"h2\", {\"class\": \"headline-2-text bold m-b-2\"})\n",
    "                contents = syllabus.findAll(\"p\")\n",
    "                for t in range(0, len(titles)):\n",
    "                    result[week][\"Title_{}\".format(t + 1)] = titles[t].text\n",
    "                    result[week][\"Contents_{}\".format(t + 1)] = contents[t].text\n",
    "        else:\n",
    "            result = \"None\"\n",
    "\n",
    "    except:\n",
    "        result = \"None\"\n",
    "\n",
    "    return result"
   ]
  },
  {
   "cell_type": "code",
   "execution_count": 54,
   "id": "educational-legislation",
   "metadata": {},
   "outputs": [
    {
     "name": "stderr",
     "output_type": "stream",
     "text": [
      "/Users/HongSukhyun/opt/anaconda3/lib/python3.7/site-packages/ipykernel_launcher.py:1: DeprecationWarning: use options instead of chrome_options\n",
      "  \"\"\"Entry point for launching an IPython kernel.\n"
     ]
    },
    {
     "name": "stdout",
     "output_type": "stream",
     "text": [
      "How many pages to crawl? (Max 194...): 1\n",
      "Start scraping...\n"
     ]
    },
    {
     "name": "stderr",
     "output_type": "stream",
     "text": [
      "100%|██████████| 28/28 [01:17<00:00,  2.77s/it]\n"
     ]
    }
   ],
   "source": [
    "driver = webdriver.Chrome(driverpath, chrome_options=options)\n",
    "data = {}\n",
    "\n",
    "page = input(\"How many pages to crawl? (Max 194...): \")\n",
    "\n",
    "for i in range(1, int(page) + 1):\n",
    "\n",
    "    print(\"Start scraping...\")\n",
    "\n",
    "    if i % 10 == 0:\n",
    "        print(\"Page {} out of {}...\".format(i, page))\n",
    "\n",
    "    links = get_links(i, lang=True)  # Detect language, and if not English, skip\n",
    "    names = list(links.keys())\n",
    "\n",
    "    for c in tqdm(range(0, len(names))):\n",
    "        course = names[c]\n",
    "        link = links[course]\n",
    "        data[course] = crawl_syllabus(link)\n"
   ]
  },
  {
   "cell_type": "code",
   "execution_count": null,
   "id": "announced-wells",
   "metadata": {},
   "outputs": [],
   "source": [
    "# Save as json file\n",
    "with open(\"coursera_crawled_syllabus_data.json\", \"w\", encoding=\"utf-8\") as json_file:\n",
    "    json.dump(data, json_file)"
   ]
  }
 ],
 "metadata": {
  "kernelspec": {
   "display_name": "Python 3",
   "language": "python",
   "name": "python3"
  },
  "language_info": {
   "codemirror_mode": {
    "name": "ipython",
    "version": 3
   },
   "file_extension": ".py",
   "mimetype": "text/x-python",
   "name": "python",
   "nbconvert_exporter": "python",
   "pygments_lexer": "ipython3",
   "version": "3.7.6"
  }
 },
 "nbformat": 4,
 "nbformat_minor": 5
}
