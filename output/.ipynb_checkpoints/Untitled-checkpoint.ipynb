{
 "cells": [
  {
   "cell_type": "code",
   "execution_count": 1,
   "id": "selected-howard",
   "metadata": {},
   "outputs": [],
   "source": [
    "import json\n",
    "import numpy as np\n",
    "import matplotlib.pyplot as plt"
   ]
  },
  {
   "cell_type": "code",
   "execution_count": 2,
   "id": "nonprofit-exposure",
   "metadata": {},
   "outputs": [],
   "source": [
    "with open(\"coursera_data_merged_cleanse.json\", \"r\", encoding = \"utf-8\") as f:\n",
    "    data = json.load(f)"
   ]
  },
  {
   "cell_type": "code",
   "execution_count": 4,
   "id": "explicit-equality",
   "metadata": {},
   "outputs": [],
   "source": [
    "cats = ['Category1', 'Category2', 'Rating', 'Ratecount', 'Info', 'skills', 'about', 'type', 'link', 'syllabus']"
   ]
  },
  {
   "cell_type": "code",
   "execution_count": 5,
   "id": "american-native",
   "metadata": {},
   "outputs": [],
   "source": [
    "titles = list(data.keys())\n",
    "vals = list(data.values())"
   ]
  },
  {
   "cell_type": "code",
   "execution_count": 6,
   "id": "studied-facial",
   "metadata": {},
   "outputs": [],
   "source": [
    "#for t in titles:\n",
    "#    if \"Chevron Right\" in data[t][\"Category1\"]:\n",
    "#        data[t][\"Category1\"] = data[t][\"Category1\"].split(\"Chevron Right\")[0]"
   ]
  },
  {
   "cell_type": "code",
   "execution_count": 7,
   "id": "lined-indonesia",
   "metadata": {},
   "outputs": [],
   "source": [
    "cat1_uniq = list(set([data[i][\"Category1\"] for i in titles]))\n",
    "cat2_uniq = list(set([data[i][\"Category2\"] for i in titles]))"
   ]
  },
  {
   "cell_type": "code",
   "execution_count": 8,
   "id": "comparable-counter",
   "metadata": {},
   "outputs": [],
   "source": [
    "cat1 = [data[i][\"Category1\"] for i in titles]\n",
    "cat2 = [data[i][\"Category2\"] for i in titles]"
   ]
  },
  {
   "cell_type": "code",
   "execution_count": null,
   "id": "miniature-script",
   "metadata": {},
   "outputs": [],
   "source": []
  }
 ],
 "metadata": {
  "kernelspec": {
   "display_name": "Python 3",
   "language": "python",
   "name": "python3"
  },
  "language_info": {
   "codemirror_mode": {
    "name": "ipython",
    "version": 3
   },
   "file_extension": ".py",
   "mimetype": "text/x-python",
   "name": "python",
   "nbconvert_exporter": "python",
   "pygments_lexer": "ipython3",
   "version": "3.7.6"
  }
 },
 "nbformat": 4,
 "nbformat_minor": 5
}
