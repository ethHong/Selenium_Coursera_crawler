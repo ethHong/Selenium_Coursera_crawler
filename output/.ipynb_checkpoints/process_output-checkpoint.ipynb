{
 "cells": [
  {
   "cell_type": "code",
   "execution_count": 1,
   "id": "future-brook",
   "metadata": {},
   "outputs": [],
   "source": [
    "import json\n",
    "import numpy as np\n",
    "import matplotlib.pyplot as plt"
   ]
  },
  {
   "cell_type": "code",
   "execution_count": 2,
   "id": "handed-namibia",
   "metadata": {},
   "outputs": [],
   "source": [
    "with open(\"coursera_data_merged_cleanse.json\", \"r\", encoding = \"utf-8\") as f:\n",
    "    data = json.load(f)"
   ]
  },
  {
   "cell_type": "code",
   "execution_count": 4,
   "id": "outer-workplace",
   "metadata": {},
   "outputs": [],
   "source": [
    "cats = ['Category1', 'Category2', 'Rating', 'Ratecount', 'Info', 'skills', 'about', 'type', 'link', 'syllabus']"
   ]
  },
  {
   "cell_type": "code",
   "execution_count": 5,
   "id": "african-blind",
   "metadata": {},
   "outputs": [],
   "source": [
    "titles = list(data.keys())\n",
    "vals = list(data.values())"
   ]
  },
  {
   "cell_type": "code",
   "execution_count": 6,
   "id": "sweet-doctor",
   "metadata": {},
   "outputs": [],
   "source": [
    "#for t in titles:\n",
    "#    if \"Chevron Right\" in data[t][\"Category1\"]:\n",
    "#        data[t][\"Category1\"] = data[t][\"Category1\"].split(\"Chevron Right\")[0]"
   ]
  },
  {
   "cell_type": "code",
   "execution_count": 7,
   "id": "pacific-intent",
   "metadata": {},
   "outputs": [],
   "source": [
    "cat1_uniq = list(set([data[i][\"Category1\"] for i in titles]))\n",
    "cat2_uniq = list(set([data[i][\"Category2\"] for i in titles]))"
   ]
  },
  {
   "cell_type": "code",
   "execution_count": 8,
   "id": "cutting-shooting",
   "metadata": {},
   "outputs": [],
   "source": [
    "cat1 = [data[i][\"Category1\"] for i in titles]\n",
    "cat2 = [data[i][\"Category2\"] for i in titles]"
   ]
  },
  {
   "cell_type": "code",
   "execution_count": 26,
   "id": "guilty-wellington",
   "metadata": {},
   "outputs": [],
   "source": [
    "categories = {}\n",
    "for c in cat1_uniq:\n",
    "    categories[c] = []"
   ]
  },
  {
   "cell_type": "code",
   "execution_count": 30,
   "id": "liquid-conversation",
   "metadata": {},
   "outputs": [],
   "source": [
    "for i in vals:\n",
    "    c2 = i[\"Category2\"]\n",
    "    categories[i[\"Category1\"]].append(c2)\n",
    "    categories[i[\"Category1\"]] = list(set(categories[i[\"Category1\"]]))"
   ]
  },
  {
   "cell_type": "code",
   "execution_count": 31,
   "id": "biblical-bosnia",
   "metadata": {},
   "outputs": [
    {
     "data": {
      "text/plain": [
       "['Machine Learning', 'Data Analysis', 'Probability and Statistics']"
      ]
     },
     "execution_count": 31,
     "metadata": {},
     "output_type": "execute_result"
    }
   ],
   "source": [
    "categories[vals[0][\"Category1\"]]"
   ]
  },
  {
   "cell_type": "code",
   "execution_count": 34,
   "id": "quiet-discount",
   "metadata": {},
   "outputs": [],
   "source": [
    "with open(\"categories.json\", \"w\", encoding = \"utf-8\") as f:\n",
    "    json.dump(categories, f)"
   ]
  },
  {
   "cell_type": "code",
   "execution_count": null,
   "id": "juvenile-token",
   "metadata": {},
   "outputs": [],
   "source": []
  }
 ],
 "metadata": {
  "kernelspec": {
   "display_name": "Python 3",
   "language": "python",
   "name": "python3"
  },
  "language_info": {
   "codemirror_mode": {
    "name": "ipython",
    "version": 3
   },
   "file_extension": ".py",
   "mimetype": "text/x-python",
   "name": "python",
   "nbconvert_exporter": "python",
   "pygments_lexer": "ipython3",
   "version": "3.7.6"
  }
 },
 "nbformat": 4,
 "nbformat_minor": 5
}
